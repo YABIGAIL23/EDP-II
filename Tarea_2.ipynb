{
  "nbformat": 4,
  "nbformat_minor": 0,
  "metadata": {
    "colab": {
      "provenance": [],
      "authorship_tag": "ABX9TyMlmVhBrj3+MWMixhVY7M34",
      "include_colab_link": true
    },
    "kernelspec": {
      "name": "python3",
      "display_name": "Python 3"
    },
    "language_info": {
      "name": "python"
    }
  },
  "cells": [
    {
      "cell_type": "markdown",
      "metadata": {
        "id": "view-in-github",
        "colab_type": "text"
      },
      "source": [
        "<a href=\"https://colab.research.google.com/github/YABIGAIL23/EDP-II/blob/main/Tarea_2.ipynb\" target=\"_parent\"><img src=\"https://colab.research.google.com/assets/colab-badge.svg\" alt=\"Open In Colab\"/></a>"
      ]
    },
    {
      "cell_type": "code",
      "source": [
        "#VECTORES ORTOGONALES\n",
        "u = [1, 2, 3]\n",
        "v = [4, 5, 6]\n",
        "\n",
        "def vec_ortogonales(u,v):\n",
        "    if len(u) != len(v):\n",
        "        return \"Los vectores deben tener la misma dimensión\"\n",
        "\n",
        "    producto_punto = sum(u[i] * v[i] for i in range(len(u)))\n",
        "    return producto_punto == 0\n",
        "\n",
        "R = vec_ortogonales(u, v)\n",
        "print(\"¿Los vectores son ortogonales?\", R)"
      ],
      "metadata": {
        "colab": {
          "base_uri": "https://localhost:8080/"
        },
        "id": "p89Ln0MXYT-s",
        "outputId": "5841cb6f-fbad-42a7-f131-26acb903006f"
      },
      "execution_count": 3,
      "outputs": [
        {
          "output_type": "stream",
          "name": "stdout",
          "text": [
            "¿Los vectores son ortogonales? False\n"
          ]
        }
      ]
    },
    {
      "cell_type": "code",
      "execution_count": 1,
      "metadata": {
        "colab": {
          "base_uri": "https://localhost:8080/"
        },
        "id": "V3Nq9LT4UtiL",
        "outputId": "b459b949-33ee-4140-f4bb-550a04f71f3c"
      },
      "outputs": [
        {
          "output_type": "stream",
          "name": "stdout",
          "text": [
            "Producto cruz u × v: [-3, 6, -3]\n"
          ]
        }
      ],
      "source": [
        "#PRODUCTO CRUZ en R^3\n",
        "u = [1, 2, 3]\n",
        "v = [4, 5, 6]\n",
        "\n",
        "def producto_cruz(u, v):\n",
        "    if len(u) != len(v):\n",
        "        return \"Los vectores deben tener la misma dimensión\"\n",
        "\n",
        "    #Usando la regla del determinante\n",
        "    pcruz = [ u[1] * v[2] - u[2] * v[1],\n",
        "             u[2] * v[0] - u[0] * v[2],\n",
        "             u[0] * v[1] - u[1] * v[0]  ]\n",
        "    return pcruz\n",
        "\n",
        "R = producto_cruz(u, v)\n",
        "print(\"Producto cruz u × v:\", R)"
      ]
    },
    {
      "cell_type": "code",
      "source": [
        "#PRODUCTO uI(v x w)\n",
        "u = [1, 2, 3]\n",
        "v = [2, -1, 4]\n",
        "w = [0, 5, -2]\n",
        "\n",
        "def producto_cruz(u, v):\n",
        "    if len(u) != len(v):\n",
        "        return \"Los vectores deben tener la misma dimensión\"\n",
        "\n",
        "    #Usando la regla del determinante\n",
        "    pcruz = [ u[1] * v[2] - u[2] * v[1],\n",
        "             u[2] * v[0] - u[0] * v[2],\n",
        "             u[0] * v[1] - u[1] * v[0]  ]\n",
        "    return pcruz\n",
        "\n",
        "def producto_interno(u, v):\n",
        "    if len(u) != len(v):\n",
        "        return (\"Los vectores deben tener la misma dimensión\")\n",
        "\n",
        "    PI = 0\n",
        "    for i in range(len(u)):\n",
        "        producto = u[i] * v[i]\n",
        "        PI += producto\n",
        "    return PI\n",
        "\n",
        "def es_ortogonal(u, v, w):\n",
        "    cruz = producto_cruz(v, w)\n",
        "    return producto_interno(u, cruz) == 0\n",
        "\n",
        "R = es_ortogonal(u,v,w)\n",
        "\n",
        "print(\"¿Los vectores son ortogonales?\", R)\n"
      ],
      "metadata": {
        "colab": {
          "base_uri": "https://localhost:8080/"
        },
        "id": "x60s_uKiW5PS",
        "outputId": "179e2dfd-ea3b-430b-9f36-9ce35f6ff5c8"
      },
      "execution_count": 11,
      "outputs": [
        {
          "output_type": "stream",
          "name": "stdout",
          "text": [
            "¿Los vectores son ortogonales? False\n"
          ]
        }
      ]
    },
    {
      "cell_type": "code",
      "source": [
        "#DETERMINANTE DE UNA MATRIZ 2X2\n",
        "A = [[1, 2],\n",
        "     [3, 4]]\n",
        "\n",
        "def determinante_2x2(A):\n",
        "    if len(A) != 2 or len(A[0]) != 2 or len(A[1]) != 2:\n",
        "        return \"La matriz debe ser de 2x2\"\n",
        "\n",
        "#det(A) = ad - bc\n",
        "    detA = A[0][0] * A[1][1] - A[0][1] * A[1][0]\n",
        "    return detA\n",
        "\n",
        "R = determinante_2x2(A)\n",
        "print(\"El determinante de la matriz es:\", R)"
      ],
      "metadata": {
        "colab": {
          "base_uri": "https://localhost:8080/"
        },
        "id": "TSiZatF2dBoU",
        "outputId": "942c593f-9642-4eeb-ee32-9c3a8e9ff950"
      },
      "execution_count": 12,
      "outputs": [
        {
          "output_type": "stream",
          "name": "stdout",
          "text": [
            "El determinante de la matriz es: -2\n"
          ]
        }
      ]
    },
    {
      "cell_type": "code",
      "source": [
        "#DETERMINANTE DE UNA MATRIZ nxn\n",
        "A = [[2, 3, 1],\n",
        "     [4, 1, 5],\n",
        "     [6, 2, 4]]\n",
        "\n",
        "def determinante_nxn(A):\n",
        "    n = len(A)\n",
        "\n",
        "    if n == 2:\n",
        "        return A[0][0] * A[1][1] - A[0][1] * A[1][0]\n",
        "\n",
        "    for fila in A:\n",
        "        if len(fila) != n:\n",
        "            return \"La matriz debe ser cuadrada\"\n",
        "\n",
        "#Expansión por cofactores\n",
        "    detA = 0\n",
        "    for j in range(n): #Recorre columnas\n",
        "        menor = [fila[:j] + fila[j+1:] for fila in A[1:]]\n",
        "\n",
        "#Signo alternante (-1)^(i+j) con i=0\n",
        "        signo = (-1) ** j\n",
        "\n",
        "#Suma\n",
        "        detA += signo * A[0][j] * determinante_nxn(menor)\n",
        "    return detA\n",
        "\n",
        "R = determinante_nxn(A)\n",
        "print(\"El determinante de la matriz es:\", R)"
      ],
      "metadata": {
        "colab": {
          "base_uri": "https://localhost:8080/"
        },
        "id": "DXLtmURKeOrZ",
        "outputId": "48ef3b0c-e3de-4ff1-efbb-1b5aef3f815e"
      },
      "execution_count": 15,
      "outputs": [
        {
          "output_type": "stream",
          "name": "stdout",
          "text": [
            "El determinante de la matriz es: 32\n"
          ]
        }
      ]
    },
    {
      "cell_type": "code",
      "source": [
        "#DETERMINANTE DE AB\n",
        "A = [[2, 3, 1],\n",
        "     [4, 1, 5],\n",
        "     [6, 2, 4]]\n",
        "\n",
        "B = [[1, 2, 3],\n",
        "     [4, 5, 6],\n",
        "     [7, 8, 9]]\n",
        "\n",
        "def producto_matrices(A, B):\n",
        "\n",
        "    if len(A[0]) != len(B):\n",
        "        return \"Las matrices no son compatibles para la multiplicación.\"\n",
        "\n",
        "    R = [[0 for _ in range(len(B[0]))]\n",
        "         for _ in range(len(A))]\n",
        "\n",
        "    for i in range(len(A)):\n",
        "        for j in range(len(B[0])):\n",
        "            for k in range(len(B)):\n",
        "                R[i][j] += A[i][k] * B[k][j]\n",
        "    return R\n",
        "def determinante_nxn(A):\n",
        "    n = len(A)\n",
        "\n",
        "    if n == 2:\n",
        "        return A[0][0] * A[1][1] - A[0][1] * A[1][0]\n",
        "\n",
        "    for fila in A:\n",
        "        if len(fila) != n:\n",
        "            return \"La matriz debe ser cuadrada\"\n",
        "\n",
        "#Expansión por cofactores\n",
        "    detA = 0\n",
        "    for j in range(n): #Recorre columnas\n",
        "        menor = [fila[:j] + fila[j+1:] for fila in A[1:]]\n",
        "\n",
        "#Signo alternante (-1)^(i+j) con i=0\n",
        "        signo = (-1) ** j\n",
        "\n",
        "#Suma\n",
        "        detA += signo * A[0][j] * determinante_nxn(menor)\n",
        "    return detA\n",
        "\n",
        "AB = producto_matrices(A,B)\n",
        "R = determinante_nxn(AB)\n",
        "\n",
        "print(\"El resuntado de det(AB) es:\",R)"
      ],
      "metadata": {
        "colab": {
          "base_uri": "https://localhost:8080/"
        },
        "id": "Dq73He5xgxc2",
        "outputId": "dd0a1cba-cf10-48d9-822a-f78015df9d5e"
      },
      "execution_count": 21,
      "outputs": [
        {
          "output_type": "stream",
          "name": "stdout",
          "text": [
            "El resuntado de det(AB) es: 0\n"
          ]
        }
      ]
    }
  ]
}