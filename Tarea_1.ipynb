{
  "nbformat": 4,
  "nbformat_minor": 0,
  "metadata": {
    "colab": {
      "provenance": [],
      "authorship_tag": "ABX9TyO8mHLs2eAf+ZKwt6Au4GfB",
      "include_colab_link": true
    },
    "kernelspec": {
      "name": "python3",
      "display_name": "Python 3"
    },
    "language_info": {
      "name": "python"
    }
  },
  "cells": [
    {
      "cell_type": "markdown",
      "metadata": {
        "id": "view-in-github",
        "colab_type": "text"
      },
      "source": [
        "<a href=\"https://colab.research.google.com/github/YABIGAIL23/EDP-II/blob/main/Tarea_1.ipynb\" target=\"_parent\"><img src=\"https://colab.research.google.com/assets/colab-badge.svg\" alt=\"Open In Colab\"/></a>"
      ]
    },
    {
      "cell_type": "code",
      "source": [
        "#EJEMPLO 2 PRODUCTO ESCALAR\n",
        "v = [1,2,3,5,6,7,8,9]\n",
        "lam = 2\n",
        "\n",
        "def producto_escalar(v, lam):\n",
        "    pe = []\n",
        "\n",
        "    for i in v:\n",
        "        pe.append(lam * i)\n",
        "    return pe\n",
        "\n",
        "pe = producto_escalar(v, lam)\n",
        "print(\"Resultado:\", pe)\n",
        "\n",
        "\n"
      ],
      "metadata": {
        "colab": {
          "base_uri": "https://localhost:8080/"
        },
        "id": "SrsorHbGLIH5",
        "outputId": "ba8cb666-f71d-4e83-9218-93158f593d5f"
      },
      "execution_count": 54,
      "outputs": [
        {
          "output_type": "stream",
          "name": "stdout",
          "text": [
            "Resultado: [2, 4, 6, 10, 12, 14, 16, 18]\n"
          ]
        }
      ]
    },
    {
      "cell_type": "code",
      "source": [
        "# EJEMPLO 2 SUMA DE VECTORES\n",
        "u = [1, 2, 3]\n",
        "v = [1, 2, 4]\n",
        "\n",
        "def suma_vectores(u, v):\n",
        "\n",
        "    if len(u) != len(v):\n",
        "        return (\"Los vectores deben tener la misma dimensión\")\n",
        "\n",
        "    else:\n",
        "      sumavec = []\n",
        "      for i in range(len(u)):\n",
        "        sumavec.append(u[i] + v[i])\n",
        "      return sumavec\n",
        "\n",
        "\n",
        "\n",
        "sumavec = suma_vectores(u, v)\n",
        "print(\"Resultado\", sumavec)\n"
      ],
      "metadata": {
        "colab": {
          "base_uri": "https://localhost:8080/"
        },
        "id": "n9H9pCZ-PUxe",
        "outputId": "34cd5eee-7a88-4b8e-b61a-d79362f982c3"
      },
      "execution_count": 18,
      "outputs": [
        {
          "output_type": "stream",
          "name": "stdout",
          "text": [
            "Resultado [2, 4, 7]\n"
          ]
        }
      ]
    },
    {
      "cell_type": "code",
      "source": [
        "# EJEMPLO 2 PRODUCTO INTERNO\n",
        "u = [1, 2, 3]\n",
        "v = [4, 5, 6]\n",
        "\n",
        "def producto_interno(u, v):\n",
        "\n",
        "    if len(u) != len(v):\n",
        "        return (\"Los vectores deben tener la misma dimensión\")\n",
        "\n",
        "    PI = 0\n",
        "    for i in range(len(u)):\n",
        "        producto = u[i] * v[i]\n",
        "        PI += producto\n",
        "    return PI\n",
        "\n",
        "PI = producto_interno(u, v)\n",
        "print(\"Resultado:\", PI)\n",
        "\n"
      ],
      "metadata": {
        "colab": {
          "base_uri": "https://localhost:8080/"
        },
        "id": "8vPKdm7DTLSm",
        "outputId": "66cc1cd9-b366-4a67-9c64-ad4f4c753f2c"
      },
      "execution_count": 23,
      "outputs": [
        {
          "output_type": "stream",
          "name": "stdout",
          "text": [
            "Resultado: 32\n"
          ]
        }
      ]
    },
    {
      "cell_type": "code",
      "source": [
        "# EJEMPLO 2 PRODUCTO INTERNO CON ESCALADO Y SUMA\n",
        "u = [1, 2, 3]\n",
        "v = [4, 5, 6]\n",
        "w = [7, 8, 9]\n",
        "lam = 2\n",
        "\n",
        "def producto_inter_escalado(u, v, w, lam):\n",
        "\n",
        "    if len(u) != len(v) or len(u) != len(w):\n",
        "        return \"Los vectores deben tener la misma dimensión\"\n",
        "\n",
        "    R = 0\n",
        "    for i in range(len(u)):\n",
        "        suma = u[i] + lam * v[i]\n",
        "        producto = suma * w[i]\n",
        "        R += producto\n",
        "\n",
        "    return R\n",
        "\n",
        "R = producto_inter_escalado(u, v, w, lam)\n",
        "print(\"Resultado:\", R)\n"
      ],
      "metadata": {
        "colab": {
          "base_uri": "https://localhost:8080/"
        },
        "id": "9zX2lYP7WCZF",
        "outputId": "2e3769fa-0981-4f10-d665-2db902867338"
      },
      "execution_count": 25,
      "outputs": [
        {
          "output_type": "stream",
          "name": "stdout",
          "text": [
            "Resultado: 294\n"
          ]
        }
      ]
    },
    {
      "cell_type": "code",
      "source": [
        "#EJEMPLO 3 PRODUCTO MATRIZ-VECTOR\n",
        "A = [\n",
        "    [1, 2, 3],\n",
        "    [4, 5, 6],\n",
        "    [7, 8, 9]\n",
        "    ]\n",
        "v = [1, 0, -1]  # Vector en ℝ³\n",
        "\n",
        "def producto_matriz_vector(A, v):\n",
        "\n",
        "    if len(A[0]) != len(v):\n",
        "        return \"Dimensiones incorrectas\"\n",
        "\n",
        "    R = [0] * len(A)\n",
        "    for i in range(len(A)):\n",
        "        for j in range(len(v)):\n",
        "            R[i] += A[i][j] * v[j]\n",
        "    return R\n",
        "\n",
        "R = producto_matriz_vector(A, v)\n",
        "print(\"Resultado:\", R)\n"
      ],
      "metadata": {
        "colab": {
          "base_uri": "https://localhost:8080/"
        },
        "id": "TtgYu6LfZScB",
        "outputId": "6d7353fc-2c8a-462a-8a65-547f7b3e986b"
      },
      "execution_count": 28,
      "outputs": [
        {
          "output_type": "stream",
          "name": "stdout",
          "text": [
            "Resultado: [-2, -2, -2]\n"
          ]
        }
      ]
    },
    {
      "cell_type": "code",
      "source": [],
      "metadata": {
        "id": "l2YWv1R4h457"
      },
      "execution_count": null,
      "outputs": []
    },
    {
      "cell_type": "code",
      "source": [
        "# EJEMPLO 3 PRODUCTO DE MATRICES\n",
        "A = [\n",
        "    [1, 2, 3],\n",
        "    [4, 5, 6]\n",
        "    ]\n",
        "B = [\n",
        "    [7, 8],\n",
        "    [9, 10],\n",
        "    [11, 12]\n",
        "    ]\n",
        "def producto_matrices(A, B):\n",
        "\n",
        "    if len(A[0]) != len(B):\n",
        "        return \"Las matrices no son compatibles para la multiplicación.\"\n",
        "\n",
        "    R = [[0 for _ in range(len(B[0]))]\n",
        "         for _ in range(len(A))]\n",
        "\n",
        "    for i in range(len(A)):\n",
        "        for j in range(len(B[0])):\n",
        "            for k in range(len(B)):\n",
        "                R[i][j] += A[i][k] * B[k][j]\n",
        "    return R\n",
        "\n",
        "R = producto_matrices(A, B)\n",
        "print(\"Resultado del producto A*B:\")\n",
        "for fila in R:\n",
        "    print(fila)\n"
      ],
      "metadata": {
        "colab": {
          "base_uri": "https://localhost:8080/"
        },
        "id": "XE07dzn4bqxG",
        "outputId": "fd6398d3-cda4-4ced-97ca-0052c4711244"
      },
      "execution_count": 31,
      "outputs": [
        {
          "output_type": "stream",
          "name": "stdout",
          "text": [
            "Resultado del producto A*B:\n",
            "[58, 64]\n",
            "[139, 154]\n"
          ]
        }
      ]
    },
    {
      "cell_type": "code",
      "source": [
        "# EJEMPLO 3 INCISO C\n",
        "A = [\n",
        "    [1, 2, 3],\n",
        "    [4, 5, 6],\n",
        "    [7, 8, 9]\n",
        "]\n",
        "u = [1, 0, -1]\n",
        "v = [2, 1, 0]\n",
        "\n",
        "def producto_matriz_vector(A, v):\n",
        "    if len(A[0]) != len(v):\n",
        "        return \"Dimensiones incorrectas\"\n",
        "\n",
        "    R = [0] * len(A)\n",
        "    for i in range(len(A)):\n",
        "        for j in range(len(v)):\n",
        "            R[i] += A[i][j] * v[j]\n",
        "    return R\n",
        "\n",
        "def producto_punto(u, v):\n",
        "    if len(u) != len(v):\n",
        "        return \"Los vectores deben tener la misma dimensión\"\n",
        "\n",
        "    resultado = 0\n",
        "    for i in range(len(u)):\n",
        "        resultado += u[i] * v[i]\n",
        "    return resultado\n",
        "\n",
        "def inciso_c(A, u, v):\n",
        "    Au = producto_matriz_vector(A, u)\n",
        "    return producto_punto(Au, v)\n",
        "\n",
        "resultado = inciso_c(A, u, v)\n",
        "print(\"Resultado:\", resultado)\n"
      ],
      "metadata": {
        "colab": {
          "base_uri": "https://localhost:8080/"
        },
        "id": "n72zRu3Ah67j",
        "outputId": "1934449d-2c86-4271-bff6-4d4a68fde2f6"
      },
      "execution_count": 37,
      "outputs": [
        {
          "output_type": "stream",
          "name": "stdout",
          "text": [
            "Resultado: -6\n"
          ]
        }
      ]
    },
    {
      "cell_type": "code",
      "source": [],
      "metadata": {
        "id": "n02aNqG4jw_4"
      },
      "execution_count": null,
      "outputs": []
    },
    {
      "cell_type": "code",
      "source": [
        "# EJEMPLO 4 INCISO D\n",
        "\n",
        "A = [\n",
        "    [1, 2, 3],\n",
        "    [4, 5, 6],\n",
        "    [7, 8, 9]\n",
        "    ]\n",
        "v = [1, 0, -1]\n",
        "\n",
        "def producto_matriz_vector(A, v):\n",
        "    if len(A[0]) != len(v):\n",
        "        return \"Dimensiones incorrectas\"\n",
        "\n",
        "    R = [0] * len(A)\n",
        "    for i in range(len(A)):\n",
        "        for j in range(len(v)):\n",
        "            R[i] += A[i][j] * v[j]\n",
        "    return R\n",
        "\n",
        "def producto_punto(u, v):\n",
        "    if len(u) != len(v):\n",
        "        return \"Los vectores deben tener la misma dimensión\"\n",
        "\n",
        "    resultado = 0\n",
        "    for i in range(len(u)):\n",
        "        resultado += u[i] * v[i]\n",
        "    return resultado\n",
        "\n",
        "def inciso_d(A, v):\n",
        "    Av = producto_matriz_vector(A, v)\n",
        "    return producto_punto(Av, v)\n",
        "resultado = inciso_d(A, v)\n",
        "print(\"Resultado de <Av, v>:\", resultado)\n"
      ],
      "metadata": {
        "colab": {
          "base_uri": "https://localhost:8080/"
        },
        "id": "hIOaES4gk5Ta",
        "outputId": "32389063-c3b0-47f2-c722-f02308b1bec4"
      },
      "execution_count": 44,
      "outputs": [
        {
          "output_type": "stream",
          "name": "stdout",
          "text": [
            "Resultado de <Av, v>: 0\n"
          ]
        }
      ]
    },
    {
      "cell_type": "code",
      "source": [
        "# EJEMPLO 3 PRODUCTO OPTIMIZADO USANDO AB(u+v)=ABu+ABv\n",
        "\n",
        "A = [\n",
        "    [1, 2, 3],\n",
        "    [0, 1, 4],\n",
        "    [5, 6, 0]\n",
        "    ]\n",
        "\n",
        "B = [\n",
        "    [7, 8, 9],\n",
        "    [1, 0, 2],\n",
        "    [3, 4, 5]\n",
        "    ]\n",
        "\n",
        "u = [1, 0, -1]\n",
        "v = [2, 1, 0]\n",
        "\n",
        "def producto_matrices(A, B):\n",
        "    if len(A[0]) != len(B):\n",
        "        return \"Dimensiones incompatibles\"\n",
        "\n",
        "    resultado = [[0 for _ in range(len(B[0]))] for _ in range(len(A))]\n",
        "    for i in range(len(A)):\n",
        "        for j in range(len(B[0])):\n",
        "            for k in range(len(B)):\n",
        "                resultado[i][j] += A[i][k] * B[k][j]\n",
        "    return resultado\n",
        "\n",
        "def producto_matriz_vector(A, v):\n",
        "    if len(A[0]) != len(v):\n",
        "        return \"Dimensiones incorrectas\"\n",
        "\n",
        "    R = [0] * len(A)\n",
        "    for i in range(len(A)):\n",
        "        for j in range(len(v)):\n",
        "            R[i] += A[i][j] * v[j]\n",
        "    return R\n",
        "\n",
        "def suma_vectores(u, v):\n",
        "\n",
        "    if len(u) != len(v):\n",
        "        return \"Los vectores deben tener la misma dimensión\"\n",
        "\n",
        "    return [u[i] + v[i] for i in range(len(u))]\n",
        "\n",
        "def inciso_e(A, B, u, v):\n",
        "    u_mas_v = suma_vectores(u, v)\n",
        "    AB = producto_matrices(A,B)\n",
        "    AB_u_mas_v = producto_matriz_vector(AB, u_mas_v)\n",
        "    R = AB_u_mas_v\n",
        "    return R\n",
        "\n",
        "R = inciso_e(A, B, u, v)\n",
        "print(\"Resultado optimizado:\", R)\n"
      ],
      "metadata": {
        "colab": {
          "base_uri": "https://localhost:8080/"
        },
        "id": "SYQ7nvYMm21S",
        "outputId": "f4760007-4c24-4f12-9123-c18f22e0a6fe"
      },
      "execution_count": 53,
      "outputs": [
        {
          "output_type": "stream",
          "name": "stdout",
          "text": [
            "Resultado optimizado: [46, 33, 106]\n"
          ]
        }
      ]
    }
  ]
}